{
 "cells": [
  {
   "cell_type": "code",
   "execution_count": 1,
   "id": "69a68eb8",
   "metadata": {},
   "outputs": [],
   "source": [
    "import numpy as np\n",
    "import oceanDAS as odas\n",
    "import matplotlib\n",
    "import matplotlib.pyplot as plt\n",
    "import matplotlib.dates as mdates\n",
    "from datetime import date, datetime\n",
    "from scipy import signal\n",
    "import glob\n",
    "from os import path\n",
    "\n",
    "%matplotlib inline\n",
    "%cd -q '/Users/hglover/Library/CloudStorage/Box-Box/FiberExperiments/DAScomparison_paper/'\n"
   ]
  },
  {
   "cell_type": "code",
   "execution_count": 2,
   "id": "00449fda",
   "metadata": {},
   "outputs": [
    {
     "data": {
      "text/plain": [
       "<matplotlib.colorbar.Colorbar at 0x7fae891c2160>"
      ]
     },
     "execution_count": 2,
     "metadata": {},
     "output_type": "execute_result"
    }
   ],
   "source": [
    "# plot example of KNO\n",
    "pname = 'KNO_Glover/'\n",
    "fname = 'KNOFIber2_SKT3_copier3_2023-01-21_21-36-37_UTC_002536.h5'\n",
    "rawstrain,das_time,chnl,depth,metadata = odas.loadKNO(pname,fname,fiber=2)\n",
    "tvec = mdates.date2num((das_time)*1e+6)\n",
    "day = datetime.utcfromtimestamp(das_time[0]).strftime('%d-%b-%Y')\n",
    "ns,nx = rawstrain.shape\n",
    "X = np.arange(0,metadata['dx']*nx,metadata['dx'])/1000\n",
    "\n",
    "fk_filter_matrix = odas.fk_filter_design((ns,nx), dx=metadata['dx'], fs=metadata['fs'], \n",
    "                                         cs_min=5, cp_min=6, cp_max=11, cs_max=12)\n",
    "filtstrain = odas.fk_filter_filt(rawstrain, fk_filter_matrix)\n",
    "\n",
    "\n",
    "jj=0\n",
    "plt.ioff()\n",
    "\n",
    "fig, ax = plt.subplots(3,5,figsize=(22,26),dpi=50)\n",
    "ax = ax.ravel()\n",
    "ax[jj].plot(X,depth)\n",
    "ax[jj].set_title('Honolulu, HI')\n",
    "ax[jj+5].pcolormesh(X, tvec, rawstrain,cmap='RdBu',vmin=-5e-7,vmax=5e-7) \n",
    "ax[jj+5].set_ylabel('Time on '+day)\n",
    "\n",
    "pcm = ax[jj+10].pcolormesh(X, tvec, filtstrain,cmap='RdBu',vmin=-5e-7,vmax=5e-7) #\n",
    "ax[jj+10].set_ylabel('Time on '+day)\n",
    "plt.colorbar(pcm,ax=ax[jj+10],location='bottom',fraction=0.046, pad=0.04)\n",
    "\n"
   ]
  },
  {
   "cell_type": "code",
   "execution_count": 3,
   "id": "617878f4",
   "metadata": {},
   "outputs": [
    {
     "data": {
      "text/plain": [
       "<matplotlib.colorbar.Colorbar at 0x7fae88f48430>"
      ]
     },
     "execution_count": 3,
     "metadata": {},
     "output_type": "execute_result"
    }
   ],
   "source": [
    "# plot example of duck\n",
    "pname = 'DuckNC_Glover/'\n",
    "fname = 'decimator_2021-11-20_20.25.43_UTC_001612.h5'\n",
    "rawstrain,das_time,chnl,depth,metadata = odas.loadDuck(pname,fname)\n",
    "tvec = mdates.date2num((das_time)*1e+6)\n",
    "day = datetime.utcfromtimestamp(das_time[0]).strftime('%d-%b-%Y')\n",
    "ns,nx = rawstrain.shape\n",
    "X = np.arange(0,metadata['dx']*nx,metadata['dx'])/1000\n",
    "\n",
    "fk_filter_matrix = odas.fk_filter_design((ns,nx), dx=metadata['dx'], fs=metadata['fs'], \n",
    "                                         cs_min=5, cp_min=6, cp_max=11, cs_max=12)\n",
    "filtstrain = odas.fk_filter_filt(rawstrain, fk_filter_matrix)\n",
    "\n",
    "jj=1\n",
    "ax[jj].plot(X,depth)\n",
    "ax[jj].set_title('Duck, NC')\n",
    "ax[jj+5].pcolormesh(X, tvec, rawstrain,cmap='RdBu',vmin=-5e-6,vmax=5e-6) \n",
    "ax[jj+5].set_ylabel('Time on '+day)\n",
    "\n",
    "pcm = ax[jj+10].pcolormesh(X, tvec, filtstrain,cmap='RdBu',vmin=-5e-6,vmax=5e-6) #\n",
    "ax[jj+10].set_ylabel('Time on '+day)\n",
    "plt.colorbar(pcm,ax=ax[jj+10],location='bottom',fraction=0.046, pad=0.04)\n",
    "\n"
   ]
  },
  {
   "cell_type": "code",
   "execution_count": 4,
   "id": "8931bc11",
   "metadata": {},
   "outputs": [
    {
     "data": {
      "text/plain": [
       "<matplotlib.colorbar.Colorbar at 0x7faeab982370>"
      ]
     },
     "execution_count": 4,
     "metadata": {},
     "output_type": "execute_result"
    }
   ],
   "source": [
    "# plot example of Homer\n",
    "pname = 'HomerAK_Williams/'\n",
    "fname = 'GCI_TERRA_2p5Hz_data.h5'\n",
    "onechn = False\n",
    "rawstrain,das_time,chnl,depth,metadata = odas.loadHomer(pname,fname,onechn)\n",
    "day = datetime.utcfromtimestamp(das_time[0]).strftime('%d-%b-%Y')\n",
    "idx = (das_time>datetime.fromisoformat('2023-06-19 21:00:00').timestamp()) & (das_time<datetime.fromisoformat('2023-06-19 21:06:00').timestamp())\n",
    "rawstrain = rawstrain[idx,:]\n",
    "das_time = das_time[idx]\n",
    "tvec = mdates.date2num((das_time)*1e+6)\n",
    "ns,nx = rawstrain.shape\n",
    "X = np.arange(0,metadata['dx']*nx,metadata['dx'])/1000\n",
    "\n",
    "fk_filter_matrix = odas.fk_filter_design((ns,nx), dx=metadata['dx'], fs=metadata['fs'], \n",
    "                                         cs_min=5, cp_min=6, cp_max=11, cs_max=12)\n",
    "filtstrain = odas.fk_filter_filt(rawstrain, fk_filter_matrix)\n",
    "\n",
    "jj=2\n",
    "ax[jj].plot(X,depth)\n",
    "ax[jj].set_title('Homer, AK')\n",
    "ax[jj+5].pcolormesh(X, tvec, rawstrain,cmap='RdBu',vmin=-1e-7,vmax=1e-7) \n",
    "ax[jj+5].set_ylabel('Time on '+day)\n",
    "\n",
    "pcm = ax[jj+10].pcolormesh(X, tvec, filtstrain,cmap='RdBu',vmin=-1e-7,vmax=1e-7) #\n",
    "ax[jj+10].set_ylabel('Time on '+day)\n",
    "plt.colorbar(pcm,ax=ax[jj+10],location='bottom',fraction=0.046, pad=0.04)\n",
    "\n"
   ]
  },
  {
   "cell_type": "code",
   "execution_count": 5,
   "id": "e169bb4c",
   "metadata": {},
   "outputs": [
    {
     "data": {
      "text/plain": [
       "<matplotlib.colorbar.Colorbar at 0x7fae88ecfca0>"
      ]
     },
     "execution_count": 5,
     "metadata": {},
     "output_type": "execute_result"
    }
   ],
   "source": [
    "# plot example of Florence\n",
    "pname = 'FlorenceOR_Ifju/'\n",
    "fname = 'mode9copier_2022-09-28_22-42-54_UTC_000287.h5'\n",
    "rawstrain,das_time,chnl,depth,metadata = odas.loadFlorence(pname,fname)\n",
    "tvec = mdates.date2num((das_time)*1e+6)\n",
    "day = datetime.utcfromtimestamp(das_time[0]).strftime('%d-%b-%Y')\n",
    "ns,nx = rawstrain.shape\n",
    "X = np.arange(0,metadata['dx']*nx,metadata['dx'])/1000\n",
    "\n",
    "fk_filter_matrix = odas.fk_filter_design((ns,nx), dx=metadata['dx'], fs=metadata['fs'], \n",
    "                                         cs_min=5, cp_min=6, cp_max=11, cs_max=12)\n",
    "filtstrain = odas.fk_filter_filt(rawstrain, fk_filter_matrix)\n",
    "\n",
    "jj=3\n",
    "ax[jj].plot(X,depth)\n",
    "ax[jj].set_xlim([0,max(X)])\n",
    "ax[jj].set_title('Florence, OR')\n",
    "ax[jj+5].pcolormesh(X, tvec, rawstrain,cmap='RdBu',vmin=-5e-6,vmax=5e-6) \n",
    "ax[jj+5].set_ylabel('Time on '+day)\n",
    "ax[jj+5].set_xlim([0,max(X)])\n",
    "\n",
    "pcm = ax[jj+10].pcolormesh(X, tvec, filtstrain,cmap='RdBu',vmin=-5e-6,vmax=5e-6) #\n",
    "ax[jj+10].set_ylabel('Time on '+day)\n",
    "ax[jj+10].set_xlim([0,max(X)])\n",
    "plt.colorbar(pcm,ax=ax[jj+10],location='bottom',fraction=0.046, pad=0.04)\n",
    "\n"
   ]
  },
  {
   "cell_type": "code",
   "execution_count": 6,
   "id": "dc428697",
   "metadata": {},
   "outputs": [
    {
     "data": {
      "text/plain": [
       "<matplotlib.colorbar.Colorbar at 0x7faeabdfa490>"
      ]
     },
     "execution_count": 6,
     "metadata": {},
     "output_type": "execute_result"
    }
   ],
   "source": [
    "# plot example of oliktok\n",
    "pname = 'OliktokPoint_Smith/'\n",
    "chn = sorted([int(path.basename(x)) for x in glob.glob(pname+'rawdata/*')])\n",
    "chn_want = chn[100:150]\n",
    "\n",
    "t1 = datetime(2021, 11, 10, 18, 0, 0).timestamp()\n",
    "t2 = datetime(2021, 11, 10, 20, 0, 0).timestamp()\n",
    "\n",
    "rawstrain,das_time,chnl,depth,X,metadata = odas.loadOliktok(pname,chn_want,t1,t2)\n",
    "rawstrain = rawstrain[:(100*60*5),:]\n",
    "das_time = das_time[:(100*60*5)]\n",
    "tvec = mdates.date2num((das_time)*1e+6)\n",
    "day = datetime.utcfromtimestamp(das_time[0]).strftime('%d-%b-%Y')\n",
    "ns,nx = rawstrain.shape\n",
    "fk_filter_matrix = odas.fk_filter_design((ns,nx), dx=metadata['dx'], fs=metadata['fs'], \n",
    "                                         cs_min=5, cp_min=6, cp_max=11, cs_max=12)\n",
    "filtstrain = odas.fk_filter_filt(rawstrain, fk_filter_matrix)\n",
    "\n",
    "jj=4\n",
    "ax[jj].plot(X,depth)\n",
    "ax[jj].set_xlim([min(X),max(X)])\n",
    "ax[jj].set_title('Oliktok Point, AK')\n",
    "ax[jj+5].pcolormesh(X, tvec, rawstrain,cmap='RdBu',vmin=-5e-10,vmax=5e-10) \n",
    "ax[jj+5].set_ylabel('Time on '+day)\n",
    "ax[jj+5].set_xlim([min(X),max(X)])\n",
    "\n",
    "pcm = ax[jj+10].pcolormesh(X, tvec, filtstrain,cmap='RdBu',vmin=-5e-11,vmax=5e-11) #\n",
    "ax[jj+10].set_ylabel('Time on '+day)\n",
    "ax[jj+10].set_xlim([min(X),max(X)])\n",
    "plt.colorbar(pcm,ax=ax[jj+10],location='bottom',fraction=0.046, pad=0.04)\n",
    "\n"
   ]
  },
  {
   "cell_type": "code",
   "execution_count": 7,
   "id": "a446ec12",
   "metadata": {},
   "outputs": [],
   "source": [
    "for jj in range(5):\n",
    "    ax[jj].set_ylim([-50,2])\n",
    "    \n",
    "    ax[jj+5].yaxis.set_major_formatter(mdates.DateFormatter('%H:%M:%S'))\n",
    "    ax[jj+5].set_xlabel('Distance along cable (km)')\n",
    "    \n",
    "    ax[jj+10].yaxis.set_major_formatter(mdates.DateFormatter('%H:%M:%S'))\n",
    "\n",
    "ax[0].set_ylabel('Water depth (m)')\n",
    "\n",
    "fig.savefig('figs/full.png')\n",
    "\n"
   ]
  }
 ],
 "metadata": {
  "kernelspec": {
   "display_name": "Python 3 (ipykernel)",
   "language": "python",
   "name": "python3"
  },
  "language_info": {
   "codemirror_mode": {
    "name": "ipython",
    "version": 3
   },
   "file_extension": ".py",
   "mimetype": "text/x-python",
   "name": "python",
   "nbconvert_exporter": "python",
   "pygments_lexer": "ipython3",
   "version": "3.9.19"
  }
 },
 "nbformat": 4,
 "nbformat_minor": 5
}
