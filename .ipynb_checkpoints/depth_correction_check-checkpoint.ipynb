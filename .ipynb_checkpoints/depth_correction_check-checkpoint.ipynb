{
 "cells": [
  {
   "cell_type": "code",
   "execution_count": 1,
   "id": "6b6ff6a6",
   "metadata": {},
   "outputs": [],
   "source": [
    "import numpy as np\n",
    "import oceanDAS as odas\n",
    "import matplotlib\n",
    "import matplotlib.pyplot as plt\n",
    "import matplotlib.dates as mdates\n",
    "from datetime import date, datetime, timezone\n",
    "from scipy import signal\n",
    "import cmocean\n",
    "\n",
    "%cd -q '/Users/hglover/Library/CloudStorage/Box-Box/FiberExperiments/DAScomparison_paper/'\n",
    "\n",
    "# load useful info like depth and noise floor freq for each site\n",
    "h, f_noise, clrs = odas.all_line_info()\n",
    "\n",
    "def calcPSD(rawstrain,metadata,frq_noise):\n",
    "#     frq_noise = odas.calcnoisefloor(rawstrain,metadata)\n",
    "    rawstrain = (rawstrain - rawstrain[0])/(1e-6) #microStrain to strain for units\n",
    "    frq_w,psd_w = signal.welch(rawstrain,fs=metadata['fs'],window='hann',nperseg=metadata['fs']*60,detrend=False)\n",
    "    psd_w = 20*np.log10(psd_w); # dB rel uE\n",
    "    psd_w[frq_w>frq_noise]=np.nan\n",
    "    return frq_w,psd_w\n"
   ]
  },
  {
   "cell_type": "code",
   "execution_count": 10,
   "id": "1b637cb1",
   "metadata": {},
   "outputs": [],
   "source": [
    "# Load in one channel at each site (or load stack and take out one channel)\n",
    "# Duck\n",
    "pname = 'DuckNC_Glover/'\n",
    "fname = 'decimator_2021-11-20_20.25.43_UTC_001612.h5'\n",
    "rawstrain,das_time,chnl,depth_array,metadata = odas.loadDuck(pname,fname)\n",
    "ns,nx = rawstrain.shape\n",
    "rawstrain = rawstrain[:,int(nx/2)]\n",
    "frq_w,psd_w = signal.welch(rawstrain,fs=metadata['fs'],window='hann',nperseg=metadata['fs']*60,detrend=False)"
   ]
  },
  {
   "cell_type": "code",
   "execution_count": 16,
   "id": "3278c5ad",
   "metadata": {
    "scrolled": false
   },
   "outputs": [
    {
     "name": "stderr",
     "output_type": "stream",
     "text": [
      "/var/folders/p0/vpgr0c8j2493xrh10b954hv40000gn/T/ipykernel_13785/1069166694.py:6: RuntimeWarning: divide by zero encountered in divide\n",
      "  L,_ = odas.dispersion(depth,1/f_psd)\n",
      "/Users/hglover/Library/CloudStorage/Box-Box/HannahGlover/Research/code/compare_submarine_das/oceanDAS.py:295: RuntimeWarning: divide by zero encountered in power\n",
      "  k = omega ** 2 / g * (1 - np.exp(-(omega * np.sqrt(h / g)) ** (5/2))) ** (-2/5)\n",
      "/Users/hglover/Library/CloudStorage/Box-Box/HannahGlover/Research/code/compare_submarine_das/oceanDAS.py:295: RuntimeWarning: invalid value encountered in multiply\n",
      "  k = omega ** 2 / g * (1 - np.exp(-(omega * np.sqrt(h / g)) ** (5/2))) ** (-2/5)\n",
      "/Users/hglover/Library/CloudStorage/Box-Box/HannahGlover/Research/code/compare_submarine_das/oceanDAS.py:302: RuntimeWarning: overflow encountered in cosh\n",
      "  dfdk = - g * np.tanh(k * h) - g * h * k * (1 / np.cosh(k * h)) ** 2\n",
      "/var/folders/p0/vpgr0c8j2493xrh10b954hv40000gn/T/ipykernel_13785/1069166694.py:7: RuntimeWarning: overflow encountered in cosh\n",
      "  attenuation = np.cosh((1/L)*depth)**2 # square for energy\n",
      "/var/folders/p0/vpgr0c8j2493xrh10b954hv40000gn/T/ipykernel_13785/1069166694.py:7: RuntimeWarning: overflow encountered in square\n",
      "  attenuation = np.cosh((1/L)*depth)**2 # square for energy\n"
     ]
    },
    {
     "data": {
      "text/plain": [
       "(0.0, 2.0)"
      ]
     },
     "execution_count": 16,
     "metadata": {},
     "output_type": "execute_result"
    },
    {
     "data": {
      "image/png": "[encoded data removed]",
      "text/plain": [
       "<Figure size 432x288 with 1 Axes>"
      ]
     },
     "metadata": {
      "needs_background": "light"
     },
     "output_type": "display_data"
    },
    {
     "data": {
      "image/png": "[encoded data removed]",
      "text/plain": [
       "<Figure size 432x288 with 1 Axes>"
      ]
     },
     "metadata": {
      "needs_background": "light"
     },
     "output_type": "display_data"
    }
   ],
   "source": [
    "depth = np.abs(depth_array[int(nx/2)])\n",
    "nperseg = 512\n",
    "f_psd, ds_psd = signal.welch(rawstrain,fs=metadata['fs'],nperseg=metadata['fs']*60)\n",
    "\n",
    "# translate bed to surface\n",
    "L,_ = odas.dispersion(depth,1/f_psd)\n",
    "attenuation = np.cosh((1/L)*depth)**2 # square for energy\n",
    "attenuation[attenuation>120] = np.nan # cut it off when correction too big,don't amplify noise\n",
    "ds_psd_corr = ds_psd*attenuation\n",
    "\n",
    "\n",
    "plt.figure()\n",
    "plt.plot(f_psd,attenuation)\n",
    "\n",
    "plt.figure()\n",
    "plt.plot(f_psd,ds_psd,'k')\n",
    "plt.plot(f_psd,ds_psd_corr,'r')\n",
    "plt.xlim([0,2])\n",
    "# plt.ylim([0,1])\n"
   ]
  }
 ],
 "metadata": {
  "kernelspec": {
   "display_name": "Python 3 (ipykernel)",
   "language": "python",
   "name": "python3"
  },
  "language_info": {
   "codemirror_mode": {
    "name": "ipython",
    "version": 3
   },
   "file_extension": ".py",
   "mimetype": "text/x-python",
   "name": "python",
   "nbconvert_exporter": "python",
   "pygments_lexer": "ipython3",
   "version": "3.9.19"
  }
 },
 "nbformat": 4,
 "nbformat_minor": 5
}
