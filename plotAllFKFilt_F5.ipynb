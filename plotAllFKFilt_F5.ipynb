{
 "cells": [
  {
   "cell_type": "code",
   "execution_count": 1,
   "id": "69a68eb8",
   "metadata": {},
   "outputs": [],
   "source": [
    "import numpy as np\n",
    "import oceanDAS as odas\n",
    "import matplotlib\n",
    "import matplotlib.pyplot as plt\n",
    "import matplotlib.dates as mdates\n",
    "from datetime import date, datetime\n",
    "from scipy import signal\n",
    "import glob\n",
    "from os import path\n",
    "\n",
    "%matplotlib inline\n",
    "%cd -q '/Users/hglover/Library/CloudStorage/Box-Box/FiberExperiments/DAScomparison_paper/'\n"
   ]
  },
  {
   "cell_type": "code",
   "execution_count": 2,
   "id": "00449fda",
   "metadata": {},
   "outputs": [
    {
     "data": {
      "text/plain": [
       "(19378.900439513887, 19378.903912083333)"
      ]
     },
     "execution_count": 2,
     "metadata": {},
     "output_type": "execute_result"
    }
   ],
   "source": [
    "# plot example of KNO\n",
    "pname = 'KNO_Glover/'\n",
    "fname = 'KNOFIber2_SKT3_copier3_2023-01-21_21-36-37_UTC_002536.h5'\n",
    "rawstrain,das_time,chnl,depth,metadata = odas.loadKNO(pname,fname,fiber=2)\n",
    "tvec = mdates.date2num((das_time)*1e+6)\n",
    "day = datetime.utcfromtimestamp(das_time[0]).strftime('%d-%b-%Y')\n",
    "ns,nx = rawstrain.shape\n",
    "X = np.arange(0,metadata['dx']*nx,metadata['dx'])/1000\n",
    "\n",
    "fk_filter_matrix = odas.fk_filter_design((ns,nx), dx=metadata['dx'], fs=metadata['fs'], \n",
    "                                         cs_min=5, cp_min=6, cp_max=19, cs_max=20)\n",
    "filtstrain = odas.fk_filter_filt(rawstrain, fk_filter_matrix)\n",
    "\n",
    "\n",
    "jj=0\n",
    "plt.ioff()\n",
    "\n",
    "fig, ax = plt.subplots(2,5,figsize=(22,13))\n",
    "ax = ax.ravel()\n",
    "ax[jj].pcolormesh(X, tvec, rawstrain,cmap='RdBu',vmin=-5e-7,vmax=5e-7) \n",
    "\n",
    "pcm = ax[jj+5].pcolormesh(X, tvec, filtstrain,cmap='RdBu',vmin=-5e-7,vmax=5e-7) #\n",
    "# plt.colorbar(pcm,ax=ax[jj+5],location='bottom',fraction=0.046, pad=0.04)\n",
    "ax[jj].set_ylim([min(tvec),max(tvec)])\n",
    "ax[jj+5].set_ylim([min(tvec),max(tvec)])\n"
   ]
  },
  {
   "cell_type": "code",
   "execution_count": 3,
   "id": "617878f4",
   "metadata": {},
   "outputs": [
    {
     "data": {
      "text/plain": [
       "(18951.851203472223, 18951.854675671297)"
      ]
     },
     "execution_count": 3,
     "metadata": {},
     "output_type": "execute_result"
    }
   ],
   "source": [
    "# plot example of duck\n",
    "pname = 'DuckNC_Glover/'\n",
    "fname = 'decimator_2021-11-20_20.25.43_UTC_001612.h5'\n",
    "rawstrain,das_time,chnl,depth,metadata = odas.loadDuck(pname,fname)\n",
    "tvec = mdates.date2num((das_time)*1e+6)\n",
    "day = datetime.utcfromtimestamp(das_time[0]).strftime('%d-%b-%Y')\n",
    "ns,nx = rawstrain.shape\n",
    "X = np.arange(0,metadata['dx']*nx,metadata['dx'])/1000\n",
    "\n",
    "fk_filter_matrix = odas.fk_filter_design((ns,nx), dx=metadata['dx'], fs=metadata['fs'], \n",
    "                                         cs_min=5, cp_min=6, cp_max=19, cs_max=20)\n",
    "filtstrain = odas.fk_filter_filt(rawstrain, fk_filter_matrix)\n",
    "\n",
    "jj=1\n",
    "ax[jj].pcolormesh(X, tvec, rawstrain,cmap='RdBu',vmin=-5e-6,vmax=5e-6) \n",
    "\n",
    "pcm = ax[jj+5].pcolormesh(X, tvec, filtstrain,cmap='RdBu',vmin=-5e-6,vmax=5e-6) #\n",
    "# plt.colorbar(pcm,ax=ax[jj+5],location='bottom',fraction=0.046, pad=0.04)\n",
    "\n",
    "ax[jj].set_ylim([min(tvec),max(tvec)])\n",
    "ax[jj+5].set_ylim([min(tvec),max(tvec)])\n"
   ]
  },
  {
   "cell_type": "code",
   "execution_count": 4,
   "id": "8931bc11",
   "metadata": {},
   "outputs": [
    {
     "data": {
      "text/plain": [
       "(19528.166667546295, 19528.17013513889)"
      ]
     },
     "execution_count": 4,
     "metadata": {},
     "output_type": "execute_result"
    }
   ],
   "source": [
    "# plot example of Homer\n",
    "pname = 'HomerAK_Williams/'\n",
    "fname = 'GCI_TERRA_2p5Hz_data.h5'\n",
    "onechn = False\n",
    "rawstrain,das_time,chnl,depth,metadata = odas.loadHomer(pname,fname,onechn)\n",
    "day = datetime.utcfromtimestamp(das_time[0]).strftime('%d-%b-%Y')\n",
    "idx = (das_time>datetime.fromisoformat('2023-06-19 21:00:00').timestamp()) & (das_time<datetime.fromisoformat('2023-06-19 21:05:00').timestamp())\n",
    "rawstrain = rawstrain[idx,:]\n",
    "das_time = das_time[idx]\n",
    "tvec = mdates.date2num((das_time)*1e+6)\n",
    "ns,nx = rawstrain.shape\n",
    "X = np.arange(0,metadata['dx']*nx,metadata['dx'])/1000\n",
    "\n",
    "fk_filter_matrix = odas.fk_filter_design((ns,nx), dx=metadata['dx'], fs=metadata['fs'], \n",
    "                                         cs_min=5, cp_min=6, cp_max=19, cs_max=20)\n",
    "filtstrain = odas.fk_filter_filt(rawstrain, fk_filter_matrix)\n",
    "\n",
    "jj=2\n",
    "ax[jj].pcolormesh(X, tvec, rawstrain,cmap='RdBu',vmin=-1e-8,vmax=1e-8) \n",
    "\n",
    "pcm = ax[jj+5].pcolormesh(X, tvec, filtstrain,cmap='RdBu',vmin=-5e-8,vmax=5e-8) #\n",
    "# plt.colorbar(pcm,ax=ax[jj+5],location='bottom',fraction=0.046, pad=0.04)\n",
    "\n",
    "ax[jj].set_ylim([min(tvec),max(tvec)])\n",
    "ax[jj+5].set_ylim([min(tvec),max(tvec)])\n"
   ]
  },
  {
   "cell_type": "code",
   "execution_count": 5,
   "id": "e169bb4c",
   "metadata": {},
   "outputs": [
    {
     "data": {
      "text/plain": [
       "(19263.946467650465, 19263.949951435185)"
      ]
     },
     "execution_count": 5,
     "metadata": {},
     "output_type": "execute_result"
    }
   ],
   "source": [
    "# plot example of Florence\n",
    "pname = 'FlorenceOR_Ifju/'\n",
    "fname = 'mode9copier_2022-09-28_22-42-54_UTC_000287.h5'\n",
    "rawstrain,das_time,chnl,depth,metadata = odas.loadFlorence(pname,fname)\n",
    "tvec = mdates.date2num((das_time)*1e+6)\n",
    "day = datetime.utcfromtimestamp(das_time[0]).strftime('%d-%b-%Y')\n",
    "ns,nx = rawstrain.shape\n",
    "X = np.arange(0,metadata['dx']*nx,metadata['dx'])/1000\n",
    "\n",
    "fk_filter_matrix = odas.fk_filter_design((ns,nx), dx=metadata['dx'], fs=metadata['fs'], \n",
    "                                         cs_min=5, cp_min=6, cp_max=19, cs_max=20)\n",
    "filtstrain = odas.fk_filter_filt(rawstrain, fk_filter_matrix)\n",
    "\n",
    "jj=3\n",
    "ax[jj].pcolormesh(X, tvec, rawstrain,cmap='RdBu',vmin=-1e-5,vmax=1e-5) \n",
    "ax[jj].set_xlim([0.1,1.1])\n",
    "\n",
    "pcm = ax[jj+5].pcolormesh(X, tvec, filtstrain,cmap='RdBu',vmin=-1e-5,vmax=1e-5) #\n",
    "ax[jj+5].set_xlim([0.1,1.1])\n",
    "# plt.colorbar(pcm,ax=ax[jj+5],location='bottom',fraction=0.046, pad=0.04)\n",
    "\n",
    "ax[jj].set_ylim([min(tvec),max(tvec)])\n",
    "ax[jj+5].set_ylim([min(tvec),max(tvec)])\n"
   ]
  },
  {
   "cell_type": "code",
   "execution_count": 6,
   "id": "dc428697",
   "metadata": {},
   "outputs": [
    {
     "data": {
      "text/plain": [
       "(18941.75008101852, 18941.753553125)"
      ]
     },
     "execution_count": 6,
     "metadata": {},
     "output_type": "execute_result"
    }
   ],
   "source": [
    "# plot example of oliktok\n",
    "pname = 'OliktokPoint_Smith/'\n",
    "chn = sorted([int(path.basename(x)) for x in glob.glob(pname+'rawdata/*')])\n",
    "chn_want = chn[290:440]\n",
    "\n",
    "t1 = datetime(2021, 11, 10, 18, 0, 0).timestamp()\n",
    "t2 = datetime(2021, 11, 10, 20, 0, 0).timestamp()\n",
    "\n",
    "rawstrain,das_time,chnl,depth,X,metadata = odas.loadOliktok(pname,chn_want,t1,t2,0)\n",
    "rawstrain = rawstrain[:(100*60*5),:]\n",
    "das_time = das_time[:(100*60*5)]\n",
    "tvec = mdates.date2num((das_time)*1e+6)\n",
    "day = datetime.utcfromtimestamp(das_time[0]).strftime('%d-%b-%Y')\n",
    "ns,nx = rawstrain.shape\n",
    "fk_filter_matrix = odas.fk_filter_design((ns,nx), dx=metadata['dx'], fs=metadata['fs'], \n",
    "                                         cs_min=5, cp_min=6, cp_max=19, cs_max=20)\n",
    "filtstrain = odas.fk_filter_filt(rawstrain, fk_filter_matrix)\n",
    "\n",
    "X -= X[0]\n",
    "\n",
    "jj=4\n",
    "ax[jj].pcolormesh(X, tvec, rawstrain,cmap='RdBu',vmin=-2e-6,vmax=2e-6) \n",
    "ax[jj].set_xlim([0,1])\n",
    "\n",
    "pcm = ax[jj+5].pcolormesh(X, tvec, filtstrain,cmap='RdBu',vmin=-2e-6,vmax=2e-6) #\n",
    "ax[jj+5].set_xlim([0,1])\n",
    "# plt.colorbar(pcm,ax=ax[jj+5],location='bottom',fraction=0.046, pad=0.04)\n",
    "\n",
    "ax[jj].set_ylim([min(tvec),max(tvec)])\n",
    "ax[jj+5].set_ylim([min(tvec),max(tvec)])\n"
   ]
  },
  {
   "cell_type": "code",
   "execution_count": 7,
   "id": "a446ec12",
   "metadata": {},
   "outputs": [],
   "source": [
    "for jj in range(5):    \n",
    "    ax[jj].yaxis.set_major_locator(mdates.MinuteLocator())\n",
    "    ax[jj].yaxis.set_major_formatter(mdates.DateFormatter('%H:%M'))\n",
    "    ax[jj].set_xlabel('Distance along cable (km)')\n",
    "    \n",
    "    ax[jj+5].yaxis.set_major_locator(mdates.MinuteLocator())\n",
    "    ax[jj+5].yaxis.set_major_formatter(mdates.DateFormatter('%H:%M'))\n",
    "\n",
    "fig.savefig('/Users/hglover/Downloads/all_sampletimestack.png',dpi=200)\n"
   ]
  },
  {
   "cell_type": "code",
   "execution_count": 8,
   "id": "3e4c3d21",
   "metadata": {},
   "outputs": [],
   "source": [
    "# # add MVCO in inkscape...\n",
    "# pname = 'MarthasVineyard_Smith/'\n",
    "# fname = '20221223120000_f0200Hz_dx4m_nch2112_f2Hz.nc'\n",
    "\n",
    "\n",
    "# # Case 6: MVCO\n",
    "# rawstrain,das_time,chnl,metadata = odas.loadMV(pname,fname)\n",
    "# rawstrain = rawstrain[:(60*2*2),:]\n",
    "# das_time = das_time[:(60*2*2)]\n",
    "# tvec = mdates.date2num((das_time)*1e+6)\n",
    "# ns,nx = rawstrain.shape\n",
    "# X = np.arange(0,metadata['dx']*nx,metadata['dx'])/1000\n",
    "# fk_filter_matrix = odas.fk_filter_design((ns,nx), dx=metadata['dx'], fs=metadata['fs'], \n",
    "#                                          cs_min=5, cp_min=6, cp_max=11, cs_max=12)\n",
    "# filtstrain = odas.fk_filter_filt(rawstrain, fk_filter_matrix)\n",
    "\n",
    "\n",
    "# fig, ax = plt.subplots(2,1,figsize=(6,10))\n",
    "# ax[0].pcolormesh(X, tvec, rawstrain,cmap='RdBu',vmin=-4e-6,vmax=4e-6) \n",
    "\n",
    "# pcm = ax[1].pcolormesh(X, tvec, filtstrain,cmap='RdBu',vmin=-4e-6,vmax=4e-6) \n",
    "# plt.colorbar(pcm,ax=ax[1],location='bottom')\n",
    "\n",
    "# ax[0].set_ylim([tvec[0],tvec[-1]])\n",
    "# ax[1].set_ylim([tvec[0],tvec[-1]])\n",
    "# ax[0].yaxis.set_major_locator(mdates.MinuteLocator())\n",
    "\n",
    "# ax[0].yaxis.set_major_formatter(mdates.DateFormatter('%H:%M'))\n",
    "# ax[1].yaxis.set_major_formatter(mdates.DateFormatter('%H:%M'))\n",
    "# ax[0].set_xlim([2,3])\n",
    "# ax[1].set_xlim([2,3])\n",
    "\n",
    "# fig.savefig('/Users/hglover/Downloads/mvco_sampletimestack.png')"
   ]
  }
 ],
 "metadata": {
  "kernelspec": {
   "display_name": "Python 3 (ipykernel)",
   "language": "python",
   "name": "python3"
  },
  "language_info": {
   "codemirror_mode": {
    "name": "ipython",
    "version": 3
   },
   "file_extension": ".py",
   "mimetype": "text/x-python",
   "name": "python",
   "nbconvert_exporter": "python",
   "pygments_lexer": "ipython3",
   "version": "3.9.12"
  }
 },
 "nbformat": 4,
 "nbformat_minor": 5
}
