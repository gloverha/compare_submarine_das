{
 "cells": [
  {
   "cell_type": "code",
   "execution_count": 1,
   "id": "638d8bc5",
   "metadata": {},
   "outputs": [],
   "source": [
    "import numpy as np\n",
    "import oceanDAS as odas\n",
    "import h5py\n",
    "import netCDF4 as nc\n",
    "import matplotlib\n",
    "import matplotlib.pyplot as plt\n",
    "import matplotlib.dates as mdates\n",
    "from datetime import date, datetime, timezone\n",
    "from scipy import signal\n",
    "\n",
    "%matplotlib inline\n",
    "%cd -q '/Users/hglover/Library/CloudStorage/Box-Box/FiberExperiments/DAScomparison_paper/'\n",
    "\n",
    "# load depth, noise floor, and color for each site (In order of table 1)\n",
    "h, f_noise, clrs = odas.all_line_info()\n",
    "\n",
    "\n",
    "# MVCO 0.04-0.3 Hz = testF1\n",
    "# CODAS 0.03-0.5 Hz = testF2"
   ]
  },
  {
   "cell_type": "code",
   "execution_count": 2,
   "id": "509f5953",
   "metadata": {},
   "outputs": [
    {
     "name": "stdout",
     "output_type": "stream",
     "text": [
      "0.2099621443882467 1.337159761734303\n",
      "5.666923896774063 13.019223529563023\n",
      "252\n"
     ]
    }
   ],
   "source": [
    "# Duck\n",
    "pname = 'DuckNC_Glover/'\n",
    "\n",
    "with np.load(pname+'cald_comparison_11m_f2.npz') as data:\n",
    "    duc_hs_das = data['hs_d']\n",
    "    duc_tp_das = data['tp_d']\n",
    "    duc_te_das = data['te_d']\n",
    "    duc_hs_pre = data['hs_p']\n",
    "    duc_tp_pre = data['tp_p']\n",
    "    duc_te_pre = data['te_p']\n",
    "    duc_meanDir = data['md']\n",
    "\n",
    "duc_tp_das[duc_tp_das<2] = np.nan\n",
    "hs_duck_dif = duc_hs_pre - duc_hs_das\n",
    "tp_duck_dif = duc_tp_pre - duc_tp_das\n",
    "te_duck_dif = duc_te_pre - duc_te_das\n",
    "\n",
    "print(min(duc_hs_pre),max(duc_hs_pre))\n",
    "print(min(duc_te_pre),max(duc_te_pre))\n",
    "print(len(hs_duck_dif))"
   ]
  },
  {
   "cell_type": "code",
   "execution_count": 3,
   "id": "2623f876",
   "metadata": {},
   "outputs": [
    {
     "name": "stdout",
     "output_type": "stream",
     "text": [
      "1236\n",
      "0.26396921482244845 1.0057021262204682\n",
      "6.502927374901209 13.982409618631397\n",
      "1.6587303565551343 0.12295928968045297\n"
     ]
    }
   ],
   "source": [
    "# # plot example of KNO wave stats\n",
    "pname = 'KNO_Glover/'\n",
    "\n",
    "with np.load(pname+'waveCalcs_F1_p3_fr2.npz') as data:\n",
    "    te_das = data['te_das']\n",
    "    tp_das = data['tp_das']\n",
    "    hs_das = data['hs_das']\n",
    "    te_pre = data['te_pre']\n",
    "    tp_pre = data['tp_pre']\n",
    "    hs_pre = data['hs_pre']\n",
    "\n",
    "\n",
    "\n",
    "# calculate r2 and mse\n",
    "mask = np.isfinite(te_das) & np.isfinite(te_pre)\n",
    "rmse_te = np.sqrt(np.mean((te_das[mask]-te_pre[mask])**2))\n",
    "mask = np.isfinite(hs_das) & np.isfinite(hs_pre)\n",
    "rmse_hs = np.sqrt(np.mean((hs_das[mask]-hs_pre[mask])**2))\n",
    "print(len(mask))\n",
    "print(min(hs_pre),max(hs_pre))\n",
    "print(min(te_pre),max(te_pre))\n",
    "print(rmse_te,rmse_hs)"
   ]
  },
  {
   "cell_type": "code",
   "execution_count": 4,
   "id": "8258c7e0",
   "metadata": {
    "scrolled": false
   },
   "outputs": [
    {
     "name": "stderr",
     "output_type": "stream",
     "text": [
      "/Users/hglover/Library/CloudStorage/Box-Box/HannahGlover/Research/code/compare_das/oceanDAS.py:324: RuntimeWarning: divide by zero encountered in true_divide\n",
      "  L,_ = dispersion(depth,1/f_psd)\n",
      "/Users/hglover/Library/CloudStorage/Box-Box/HannahGlover/Research/code/compare_das/oceanDAS.py:290: RuntimeWarning: divide by zero encountered in power\n",
      "  k = omega ** 2 / g * (1 - np.exp(-(omega * np.sqrt(h / g)) ** (5/2))) ** (-2/5)\n",
      "/Users/hglover/Library/CloudStorage/Box-Box/HannahGlover/Research/code/compare_das/oceanDAS.py:290: RuntimeWarning: invalid value encountered in multiply\n",
      "  k = omega ** 2 / g * (1 - np.exp(-(omega * np.sqrt(h / g)) ** (5/2))) ** (-2/5)\n",
      "/Users/hglover/Library/CloudStorage/Box-Box/HannahGlover/Research/code/compare_das/oceanDAS.py:333: RuntimeWarning: divide by zero encountered in power\n",
      "  ds_psd_corr[np.isnan(ds_psd_corr)] = (min_psd)*np.power(f_noise[0],4)*np.power(f_noise,-4)\n",
      "/Users/hglover/Library/CloudStorage/Box-Box/HannahGlover/Research/code/compare_das/oceanDAS.py:333: RuntimeWarning: invalid value encountered in multiply\n",
      "  ds_psd_corr[np.isnan(ds_psd_corr)] = (min_psd)*np.power(f_noise[0],4)*np.power(f_noise,-4)\n"
     ]
    },
    {
     "name": "stdout",
     "output_type": "stream",
     "text": [
      "648\n",
      "0.17520976283223666 0.7488555217485676\n",
      "0.7933370822106423 0.3385974340084857\n",
      "0.052797306328595556 0.9278572687170752\n",
      "3.605744323715713 8.660351826792963\n"
     ]
    }
   ],
   "source": [
    "# calculate and compare wave stats for Homer\n",
    "pname = 'HomerAK_Williams/'\n",
    "\n",
    "# load ground truth spectra:\n",
    "with h5py.File(pname+'NDBC-46108_spectra.h5','r') as fp:\n",
    "    sdate = fp['DATE'][:]/1e9 # POSIX time stamp (s) (convert from ns to s)\n",
    "    sfreq = fp['FREQ'][:] # Hz\n",
    "    sspec = fp['SPEC'][:] # m^2/Hz\n",
    "nt = len(sdate)     # number of buoy spectra\n",
    "\n",
    "# calculate wave stats from spectra for comparison:\n",
    "hs_hombuoy = np.zeros(nt)\n",
    "tp_hombuoy = np.zeros(nt)\n",
    "te_hombuoy = np.zeros(nt)\n",
    "for jj in range(nt):\n",
    "    ds_psd_corr = sspec[jj,(sfreq > 0.04) & (sfreq < 0.3)]\n",
    "    f_psd = sfreq[(sfreq > 0.04) & (sfreq < 0.3)]\n",
    "    fe = ((ds_psd_corr * f_psd) / ds_psd_corr.sum() ).sum() #(f*E)/E\n",
    "    te_hombuoy[jj] = 1/fe\n",
    "    tp_hombuoy[jj] = 1/(f_psd[np.argmax(ds_psd_corr)])\n",
    "    bandwidth = (f_psd[1::] - f_psd[0:-1]).mean()\n",
    "    hs_hombuoy[jj] = 4*np.sqrt( ds_psd_corr.sum() * bandwidth )   \n",
    "    \n",
    "# load ground truth time points \n",
    "with h5py.File(pname+'NDBC-46108_statistics.h5','r') as fp:\n",
    "    ndate = fp['DATE'][:]/1e9 # POSIX time stamp (s) (convert from ns to s)\n",
    "#     WVHT = fp['WVHT'][:] # significant wave height (m)\n",
    "#     SwH = fp['SwH'][:] # swell height (m)\n",
    "#     SwP = fp['SwP'][:] # swell period (s)\n",
    "#     WWH = fp['WWH'][:] # wind wave height (m)\n",
    "#     WWP = fp['WWP'][:] # wind wave period (s)\n",
    "#     SwD = fp['SwD'][:] # swell direction (N, NNW, NW, WNW, ...)\n",
    "#     WWD = fp['WWD'][:] # wind wave direction \n",
    "#     APD = fp['APD'][:] # average wave period (s)\n",
    "    MWD = fp['MWD'][:] # mean wave direction (deg)\n",
    "# interpolate to same times as sdate (calcd waves, for wave angle)\n",
    "MWD = np.interp(sdate,ndate,MWD)\n",
    "\n",
    "# cable axis 268 - 92\n",
    "MWD[MWD>180] = np.abs(MWD[MWD>180] - 268)\n",
    "MWD[MWD<=180] = np.abs(MWD[MWD<=180] - 92)\n",
    "\n",
    "\n",
    "\n",
    "# load strain at all channels  then pull out channel 31\n",
    "fname = 'GCI_TERRA_2p5Hz_data.h5'\n",
    "onechn = False\n",
    "rawstrain,das_time,chnl,depth,metadata = odas.loadHomer(pname,fname,onechn)\n",
    "rawstrain = rawstrain[~np.isnan(das_time),31]\n",
    "das_time = das_time[~np.isnan(das_time)]\n",
    "depth = depth[31]\n",
    "ns = len(rawstrain)\n",
    "\n",
    "# Calculate strain spectra corresponding to each buoy spectra\n",
    "nns = int(200*metadata['fs'])   # number of samples for each FFT (to match buoy resolution)\n",
    "nsg = int(30*60*metadata['fs']) # number of samples in each window\n",
    "\n",
    "# Calculate depth attenuation function to translate buoy surface to pressure at bed \n",
    "L,_ = odas.dispersion(depth,1 / sfreq)\n",
    "attenuation = np.exp((1/L)*np.abs(depth)*(-1))**2 # square for energy\n",
    "attenuation[attenuation>150]=np.nan\n",
    "sspec = sspec*attenuation\n",
    "\n",
    "# calculate correction factor for each point in time\n",
    "ss = np.zeros((nt,len(sfreq)))\n",
    "for it in range(nt):\n",
    "    ii = np.argmin(abs(sdate[it]-das_time))\n",
    "    i1 = np.maximum(0,ii-nsg//2)\n",
    "    i2 = np.minimum(ns,ii+nsg//2)\n",
    "    freq_e,temp = signal.welch(rawstrain[i1:i2],fs=metadata['fs'],nperseg=nns,detrend=False,scaling='density')\n",
    "    temp = np.interp(sfreq, freq_e, temp)\n",
    "    ss[it,:] = sspec[it,:]/temp\n",
    "    \n",
    "ss_med = np.nanmedian(ss,axis=0)\n",
    "\n",
    "hs_hom = np.zeros(len(sdate))*np.nan\n",
    "tp_hom = np.zeros(len(sdate))*np.nan\n",
    "te_hom = np.zeros(len(sdate))*np.nan\n",
    "for it in range(len(sdate)):\n",
    "    ii = np.argmin(abs(sdate[it]-das_time))\n",
    "    i1 = np.maximum(0,ii-nsg//2)\n",
    "    i2 = np.minimum(ns,ii+nsg//2)\n",
    "    tp_hom[it], te_hom[it], hs_hom[it] = odas.DAS_wave_conversion(\n",
    "        rawstrain[i1:i2],metadata['fs'],depth,ss_med,sfreq,f_noise[4])\n",
    "tvec_hom = sdate\n",
    "hs_hom_dif = hs_hombuoy - hs_hom\n",
    "tp_hom_dif = tp_hombuoy - tp_hom\n",
    "te_hom_dif = te_hombuoy - te_hom\n",
    "\n",
    "\n",
    "# calculate r2 and mse\n",
    "mask = np.isfinite(te_hom) & np.isfinite(te_hombuoy)\n",
    "corr = np.corrcoef(te_hom[mask], te_hombuoy[mask])\n",
    "corr_hom_te = corr[0,1]**2\n",
    "rmse_hom_te = np.sqrt(np.mean((te_hom[mask]-te_hombuoy[mask])**2))\n",
    "mask = np.isfinite(hs_hom) & np.isfinite(hs_hombuoy)\n",
    "corr = np.corrcoef(hs_hom[mask], hs_hombuoy[mask])\n",
    "corr_hom_hs = corr[0,1]**2\n",
    "rmse_hom_hs = np.sqrt(np.mean((hs_hom[mask]-hs_hombuoy[mask])**2))\n",
    "print(len(mask))\n",
    "print(rmse_hom_hs,corr_hom_hs)\n",
    "print(rmse_hom_te,corr_hom_te)\n",
    "print(min(hs_hombuoy),max(hs_hombuoy))\n",
    "print(min(te_hombuoy),max(te_hombuoy))\n",
    "\n",
    "del sspec, ss_med, sfreq, L,rawstrain,das_time"
   ]
  },
  {
   "cell_type": "code",
   "execution_count": 5,
   "id": "85db33b6",
   "metadata": {},
   "outputs": [
    {
     "name": "stdout",
     "output_type": "stream",
     "text": [
      "144\n",
      "0.13159959121480386 1.5229350990222448\n",
      "8.714394744379259 14.008858064446036\n"
     ]
    }
   ],
   "source": [
    "# plot example of Florence wave stats\n",
    "# this data is calculated in Florence_calcCFactor\n",
    "pname = 'FlorenceOR_Ifju/'\n",
    "\n",
    "\n",
    "with np.load(pname+'empCal_Ch700_Flo_f2.npz') as data:\n",
    "    te_das_flo = data['te_das']\n",
    "    hs_das_flo = data['hs_das']\n",
    "    te_pre_flo = data['te_pre']\n",
    "    hs_pre_flo = data['hs_pre']\n",
    "\n",
    "print(len(te_das_flo))\n",
    "print(min(hs_pre_flo),max(hs_pre_flo))\n",
    "print(min(te_pre_flo),max(te_pre_flo))"
   ]
  },
  {
   "cell_type": "code",
   "execution_count": 6,
   "id": "983d61ad",
   "metadata": {
    "scrolled": false
   },
   "outputs": [
    {
     "data": {
      "image/png": "[encoded data removed]",
      "text/plain": [
       "<Figure size 792x288 with 2 Axes>"
      ]
     },
     "metadata": {
      "needs_background": "light"
     },
     "output_type": "display_data"
    }
   ],
   "source": [
    "plt.rc('font', size=12)\n",
    "plt.rcParams['lines.markersize'] = 8\n",
    "plt.rcParams['lines.linestyle'] = 'none'\n",
    "plt.rcParams['lines.marker'] = '.'\n",
    "\n",
    "fig,ax = plt.subplots(1,2,figsize=(11,4))\n",
    "ax= ax.ravel()\n",
    "ax[0].plot(duc_hs_pre,duc_hs_das,c = clrs[0,:])\n",
    "ax[0].plot(hs_pre,hs_das,c = clrs[1,:])\n",
    "ax[0].plot(hs_hombuoy,hs_hom,c = clrs[4,:])\n",
    "ax[0].plot(hs_pre_flo,hs_das_flo,c = clrs[5,:])\n",
    "ax[0].plot((0,6),(0,6),'k',linestyle='-')\n",
    "ax[0].set_xlabel('Hs from ground truth (m)')\n",
    "ax[0].set_ylabel('Hs from DAS (m)')\n",
    "ax[0].set_xlim([0,4])\n",
    "ax[0].set_ylim([0,4])\n",
    "ax[0].grid(which='major', axis='both')\n",
    "\n",
    "ax[1].plot(duc_tp_pre,duc_tp_das,c = clrs[0,:],label='Duck, NC')\n",
    "ax[1].plot(te_pre,te_das,c = clrs[1,:],label='Honolulu, HI')\n",
    "ax[1].plot(te_hombuoy,te_hom,c = clrs[4,:],label='Homer, AK')\n",
    "ax[1].plot(te_pre_flo,te_das_flo,c = clrs[5,:],label='Florence, OR')\n",
    "ax[1].set_xlabel('Te from ground truth (s)')\n",
    "ax[1].set_ylabel('Te from DAS (s)')\n",
    "ax[1].plot((0,15),(0,15),'k',linestyle='-')\n",
    "ax[1].yaxis.set_major_locator(matplotlib.ticker.MultipleLocator(5))\n",
    "ax[1].set_xlim([0,15])\n",
    "ax[1].set_ylim([0,15])\n",
    "ax[1].legend(loc=(-0.85,1.05),ncol=3)\n",
    "ax[1].grid(which='major', axis='both')\n",
    "\n",
    "\n",
    "\n",
    "\n",
    "plt.savefig('/Users/hglover/Downloads/ScatterHT_all_f2.png')"
   ]
  }
 ],
 "metadata": {
  "kernelspec": {
   "display_name": "Python 3 (ipykernel)",
   "language": "python",
   "name": "python3"
  },
  "language_info": {
   "codemirror_mode": {
    "name": "ipython",
    "version": 3
   },
   "file_extension": ".py",
   "mimetype": "text/x-python",
   "name": "python",
   "nbconvert_exporter": "python",
   "pygments_lexer": "ipython3",
   "version": "3.9.12"
  }
 },
 "nbformat": 4,
 "nbformat_minor": 5
}
