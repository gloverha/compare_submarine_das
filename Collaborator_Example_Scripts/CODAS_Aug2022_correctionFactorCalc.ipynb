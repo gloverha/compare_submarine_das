{
 "cells": [
  {
   "cell_type": "markdown",
   "metadata": {},
   "source": [
    "# OliktokPoint_Smith method for calculating empirical transfer function and calculate waves\n",
    "1. Calculate PSD of strain from DAS. Divide by SWIFT PSD corrected for depth attenuation to approximate expected seafloor pressure . \n",
    "2.Take median of all correction factors (temporal) to be used as channel-specific correction factor. Does the shape make sense with analytical transfer function?  \n",
    "3. For each timestep, calculate PSD of raw DAS strain, then multiply by correction factor and divide by attenuation correction.\n",
    "4. For each timestep, calculate bulk wave parameters for both DAS and SWIFT over the wavelengths 0.06 to 0.4 Hz (can change this if desired?)"
   ]
  },
  {
   "cell_type": "code",
   "execution_count": 2,
   "metadata": {},
   "outputs": [],
   "source": [
    "import glob\n",
    "import xarray as xr\n",
    "import pandas as pd\n",
    "import numpy as np\n",
    "from matplotlib import pyplot as plt\n",
    "import matplotlib.colors as colors\n",
    "from scipy import signal\n",
    "\n",
    "from datetime import date, timedelta, datetime\n",
    "import matplotlib.dates as mdates\n",
    "plt.rcParams.update({'font.size': 12})\n",
    "from pathlib import Path\n",
    "\n",
    "from scipy.signal import argrelextrema\n",
    "\n",
    "import scipy.io\n",
    "import warnings\n",
    "warnings.filterwarnings('ignore')\n",
    "warnings.filterwarnings(\"ignore\", category=DeprecationWarning)"
   ]
  },
  {
   "cell_type": "code",
   "execution_count": 3,
   "metadata": {},
   "outputs": [],
   "source": [
    "# read in global parameters (das info and SWIFT )\n",
    "das_info = pd.read_csv('OliktokPoint_Smith/CODAS_info.csv')\n",
    "SWIFT = xr.open_dataset('OliktokPoint_Smith/SWIFT18_OliktokPt_Aug2022_reprocessedIMU_1Hzspectra_convertedTe.nc')"
   ]
  },
  {
   "cell_type": "code",
   "execution_count": 13,
   "metadata": {},
   "outputs": [
    {
     "name": "stdout",
     "output_type": "stream",
     "text": [
      "processing channel 7960, 2023-04-19 12:48:51.457257\n"
     ]
    }
   ],
   "source": [
    "#das data (in future, loop thru channens)\n",
    "\n",
    "#note: channel 393 is closest to the SWIFT location\n",
    "for ci, channel in enumerate(das_info.Channel[393:394]):#393-400\n",
    "    #channel = 7960\n",
    "    print('processing channel ' + str(channel)+', '+str(datetime.now()))\n",
    "    das_info_channel = das_info[das_info['Channel']==channel]\n",
    "\n",
    "    DAS_dir ='/Users/msmith/Documents/DAS/CODAS/uw_2022_08/'+str(channel)+'/'\n",
    "    das_times = sorted([datetime.strptime(x.split('/')[-1][10:25],'%Y%m%d_%H%M%S') for x in glob.glob(DAS_dir+'/*.ncdf')])\n",
    "    das_timestr = sorted([x.split('/')[-1][10:25] for x in glob.glob(DAS_dir+'/*.ncdf')])\n",
    "\n",
    "    #calculate depth attenuation function for this channel location\n",
    "    depth = -das_info_channel['Water Depth'].values\n",
    "    k = (2*np.pi*SWIFT.freq.values)**2 / 9.8\n",
    "    attenuation = np.exp(k*depth)\n",
    "    attenuation = attenuation**2; # square for energy \n",
    "\n",
    "    #plot directories (base and channel speific)\n",
    "    plotdir = '/Users/msmith/Documents/DAS/CODAS/202208_reprocessing/'\n",
    "    Path(plotdir+str(channel)).mkdir(parents=True, exist_ok=True)\n",
    "    plotdir_chan = plotdir+str(channel)+'/'\n",
    "    \n",
    "    #first need to save array of correlation functions for all times (so don't have to re-calc in each loop)\n",
    "\n",
    "    corr_factor = []\n",
    "    for ti,das_time in enumerate(das_times):\n",
    "        das_file = glob.glob(DAS_dir +  'CODAS.D*__' + das_timestr[ti] + '.*__chn*'+str(channel)+'.ncdf')[0]\n",
    "        ds_disk = xr.open_dataset(das_file)\n",
    "\n",
    "        #spectra of DAS, interpolate to SWIFT frequency\n",
    "        window = 128\n",
    "        nfft = 256\n",
    "        f_psd, ds_psd = signal.welch((ds_disk.data),fs=2,nfft=nfft,nperseg=window)\n",
    "\n",
    "        from scipy.interpolate import interp1d\n",
    "        ds_psd = interp1d(f_psd, ds_psd)(SWIFT.freq)\n",
    "\n",
    "        #calculate equivalent attenuated SWIFT spectra\n",
    "        SWIFT_E_att = SWIFT.sel(time=das_time,method='nearest').energy*attenuation\n",
    "\n",
    "        if das_time == datetime(2022,8,17,18,0,9):\n",
    "            fig, ax = plt.subplots(1,2,figsize=(12,4))\n",
    "            ax[0].loglog(SWIFT.freq,SWIFT_E_att,color='orange')\n",
    "            ax[0].loglog(SWIFT.freq,ds_psd,color='purple')\n",
    "            ax[0].legend(['SWIFT (attenuated to depth)','strain'])\n",
    "            ax[0].set_ylabel('PSD')\n",
    "            ax[0].set_xlabel('freq [Hz]')\n",
    "            ax[0].grid(True)\n",
    "\n",
    "            ax[1].loglog(SWIFT.freq,SWIFT_E_att/ds_psd,color='purple')\n",
    "            ax[1].set_ylabel('correction factor (~pressure/strain)')\n",
    "            ax[1].set_xlabel('freq [Hz]')\n",
    "            ax[1].grid(True)\n",
    "            #plt.xlim((0.05,0.3))\n",
    "\n",
    "            fig.suptitle('channel '+str(channel)+', time ' +das_timestr[ti])\n",
    "\n",
    "            plt.savefig(plotdir_chan + 'WaveCorrectionFactorCalc_channel'+str(channel)+'_'+das_timestr[ti]+'_1Hz.jpg',bbox_inches='tight',dpi=110)\n",
    "            plt.close(fig)\n",
    "        \"\"\"\n",
    "        \"\"\"\n",
    "\n",
    "        corr_factor.append((SWIFT_E_att/ds_psd).values)\n",
    "    corr_factor = np.array(corr_factor) \n",
    "\n",
    "    #save nanmedian correction factor \n",
    "    pd.DataFrame(data=np.transpose([SWIFT.freq.values,np.nanmedian(corr_factor,0)]),  columns=['freq','corr_factor']).to_csv(plotdir+'SpectralCorrectionFactor_channel'+str(channel)+'_1Hz.csv') \n",
    "\n",
    "    \n",
    "    #plot and save all empirical correction factors\n",
    "    fig, ax = plt.subplots(figsize=(6,4))\n",
    "\n",
    "    for ti,das_time in enumerate(das_times):\n",
    "        ax.loglog(SWIFT.freq,np.array(corr_factor)[ti,:],'b',alpha=.3,color='purple')\n",
    "    ax.loglog(SWIFT.freq,np.nanmedian(corr_factor,0),'k',linewidth=2)\n",
    "    ax.set_xlabel('freq [Hz]')\n",
    "    ax.set_ylabel('correction factor (~pressure/strain)')\n",
    "    ax.grid(True)\n",
    "    \n",
    "    ax.set_title('channel '+str(channel))\n",
    "\n",
    "    plt.savefig(plotdir + 'WaveCorrectionFactor_all_channel'+str(channel)+'.jpg',bbox_inches='tight',dpi=110)\n",
    "    plt.close(fig)"
   ]
  },
  {
   "cell_type": "code",
   "execution_count": null,
   "metadata": {},
   "outputs": [],
   "source": []
  },
  {
   "cell_type": "code",
   "execution_count": null,
   "metadata": {},
   "outputs": [],
   "source": []
  }
 ],
 "metadata": {
  "kernelspec": {
   "display_name": "Python 3 (ipykernel)",
   "language": "python",
   "name": "python3"
  },
  "language_info": {
   "codemirror_mode": {
    "name": "ipython",
    "version": 3
   },
   "file_extension": ".py",
   "mimetype": "text/x-python",
   "name": "python",
   "nbconvert_exporter": "python",
   "pygments_lexer": "ipython3",
   "version": "3.9.12"
  }
 },
 "nbformat": 4,
 "nbformat_minor": 4
}
