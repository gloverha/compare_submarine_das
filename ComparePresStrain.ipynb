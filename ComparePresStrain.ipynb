{
 "cells": [
  {
   "cell_type": "code",
   "execution_count": 1,
   "id": "69a68eb8",
   "metadata": {},
   "outputs": [],
   "source": [
    "import numpy as np\n",
    "import h5py\n",
    "import netCDF4 as nc\n",
    "import oceanDAS as odas\n",
    "import matplotlib\n",
    "import matplotlib.pyplot as plt\n",
    "import matplotlib.dates as mdates\n",
    "from datetime import date, datetime, timezone\n",
    "from scipy import signal\n",
    "import warnings\n",
    "\n",
    "%matplotlib inline\n",
    "%cd -q '/Users/hglover/Library/CloudStorage/Box-Box/FiberExperiments/DAScomparison_paper/'\n",
    "\n",
    "plt.rc('font', size=12)\n",
    "\n",
    "warnings.filterwarnings(\"ignore\", category=RuntimeWarning)"
   ]
  },
  {
   "cell_type": "code",
   "execution_count": 2,
   "id": "b79c4929",
   "metadata": {},
   "outputs": [],
   "source": [
    "def calc_means(das,dasTime,press,presTime,test_time):\n",
    "    L = len(test_time)\n",
    "    mean_das = np.empty([L])*np.nan\n",
    "    mean_pre = np.empty([L])*np.nan\n",
    "    for jj in range(L-1):\n",
    "        mean_das[jj] = np.nanstd(np.absolute(das[(dasTime>test_time[jj]) & (dasTime<(test_time[jj+1]))]))\n",
    "        mean_pre[jj] = np.nanstd(press[(presTime>test_time[jj]) & (presTime<(test_time[jj]+numvals))])\n",
    "    \n",
    "    return mean_das,mean_pre\n",
    "\n",
    "def calc_means_hom(das,dasTime,sspec,sdate,test_time):\n",
    "    L = len(test_time)\n",
    "    mean_das = np.empty([L])*np.nan\n",
    "    mean_pre = np.empty([L])*np.nan\n",
    "    for jj in range(L-1):\n",
    "        mean_das[jj] = np.nanmean(np.absolute(das[(dasTime>test_time[jj]) & (dasTime<(test_time[jj+1]))]))\n",
    "        temp = sspec[(sdate>=test_time[jj]) & (sdate<test_time[jj+1]),:].flatten()\n",
    "        \n",
    "        mean_pre[jj] = np.nanstd(psd2time(temp))\n",
    "    \n",
    "    return mean_das,mean_pre\n",
    "\n",
    "def psd2time(sspec):\n",
    "    # Now undo the manual operation of P_fft_one_sided to get back to a time series, insert your PSD here\n",
    "    N = 2*(len(sspec) - 1)\n",
    "\n",
    "    # Because P includes both DC and Nyquist (N/2+1), P_fft must have 2*(N_P-1) elements\n",
    "    sspec[0] = sspec[0] * 2\n",
    "    sspec[-1] = sspec[-1] * 2\n",
    "    P_fft_new = np.zeros((N,), dtype=complex)\n",
    "    P_fft_new[0:int(N/2)+1] = sspec\n",
    "    P_fft_new[int(N/2)+1:] = sspec[-2:0:-1]\n",
    "\n",
    "    X_new = np.sqrt(P_fft_new)\n",
    "\n",
    "    # Create random phases for all FFT terms other than DC and Nyquist\n",
    "    phases = np.random.uniform(0, 2*np.pi, (int(N/2),))\n",
    "\n",
    "    # Ensure X_new has complex conjugate symmetry\n",
    "    X_new[1:int(N/2)+1] = X_new[1:int(N/2)+1] * np.exp(2j*phases)\n",
    "    X_new[int(N/2):] = X_new[int(N/2):] * np.exp(-2j*phases[::-1])\n",
    "\n",
    "    # This is the new time series with a given PSD\n",
    "    x_new = np.real(np.fft.ifft(X_new))\n",
    "    return x_new"
   ]
  },
  {
   "cell_type": "code",
   "execution_count": 3,
   "id": "43d4da08",
   "metadata": {},
   "outputs": [],
   "source": [
    "# Duck\n",
    "pname = 'DuckNC_Glover/'\n",
    "\n",
    "# load pressure\n",
    "with np.load(pname+'FRF-ocean_waveTs_awac-11m_202111.npz') as data:\n",
    "    press = data['p']\n",
    "    presTime = data['t']\n",
    "\n",
    "# load strain\n",
    "f = h5py.File(pname + 'ChNo436_Nov2021fromdown.hdf5', 'r') \n",
    "dasTime = f['Acquisition']['RawDataTime'][:]\n",
    "das = f['Acquisition']['RawData'][:] # unit of E\n",
    "\n",
    "# set training data periods\n",
    "numvals = 60*20\n",
    "t1 = datetime(2021, 11, 11, 0, 0, 0,tzinfo=timezone.utc).timestamp()\n",
    "t2 = datetime(2021, 11, 24, 0, 0, 0,tzinfo=timezone.utc).timestamp()\n",
    "test_time = np.arange(t1,t2,numvals)\n",
    "\n",
    "# Calculate avg |strain| and avg pressure over 20 mins\n",
    "mean_das_duc,mean_pre_duc = calc_means(das,dasTime,press,presTime,test_time)                                          \n"
   ]
  },
  {
   "cell_type": "code",
   "execution_count": 4,
   "id": "44369daa",
   "metadata": {},
   "outputs": [],
   "source": [
    "# KNO\n",
    "pname = 'KNO_Glover/'\n",
    "\n",
    "# load pressure\n",
    "with np.load(pname + 'rbr_pres_temp_all.npz') as data:\n",
    "    press = data['p'][:,5] #5 is nearest ch124, h=11.5 m\n",
    "    presTime = data['tvec']\n",
    "press = press - np.mean(press)\n",
    "\n",
    "# load strain data\n",
    "with np.load(pname + 'filtstrain_F1_ch124.npz') as data:\n",
    "    das = data['e']\n",
    "    dasTime = data['t']\n",
    "\n",
    "# set training data periods\n",
    "t1 = datetime(2023, 1, 14, 0, 0, 0,tzinfo=timezone.utc).timestamp()\n",
    "t2 = datetime(2023, 2, 5, 0, 0, 0,tzinfo=timezone.utc).timestamp()\n",
    "test_time = np.arange(t1,t2,numvals)\n",
    "# Calculate avg |strain| and avg pressure over 20 mins\n",
    "mean_das_kno,mean_pre_kno = calc_means(das,dasTime,press,presTime,test_time)                                          \n"
   ]
  },
  {
   "cell_type": "code",
   "execution_count": 5,
   "id": "55f0f59c",
   "metadata": {},
   "outputs": [],
   "source": [
    "pname = 'HomerAK_Williams/'\n",
    "\n",
    "# load strain at all channels  then pull out channel 31\n",
    "fname = 'GCI_TERRA_2p5Hz_data.h5'\n",
    "onechn = False\n",
    "das,dasTime,chnl,depth,metadata = odas.loadHomer(pname,fname,onechn)\n",
    "das = das[~np.isnan(dasTime),31]\n",
    "dasTime = dasTime[~np.isnan(dasTime)][:]\n",
    "depth = depth[31]\n",
    "\n",
    "# load ground truth spectra:\n",
    "with h5py.File(pname+'NDBC-46108_spectra.h5','r') as fp:\n",
    "    sdate = fp['DATE'][:]/1e9 # POSIX time stamp (s) (convert from ns to s)\n",
    "    sfreq = fp['FREQ'][:] # Hz\n",
    "    sspec = fp['SPEC'][:] # m^2/Hz\n",
    "\n",
    "# Calculate depth attenuation function to translate buoy surface to pressure at bed \n",
    "L,_ = odas.dispersion(depth,1 / sfreq)\n",
    "attenuation = np.exp((1/L)*np.abs(depth)*(-1))**2 # square for energy\n",
    "attenuation[attenuation>100]=np.nan\n",
    "sspec = sspec*attenuation\n",
    "\n",
    "t1 = datetime(2023, 6, 10, 0, 0, 0,tzinfo=timezone.utc).timestamp()\n",
    "t2 = datetime(2023, 6, 25, 0, 0, 0,tzinfo=timezone.utc).timestamp()\n",
    "numvals = 60*60\n",
    "test_time = np.arange(t1,t2,numvals)\n",
    "\n",
    "# convert spectra of pressure to pressure time series\n",
    "# Calculate avg |strain| and avg pressure over 20 mins\n",
    "mean_das_hom,mean_pre_hom = calc_means_hom(das,dasTime,sspec,sdate,test_time)                                      \n"
   ]
  },
  {
   "cell_type": "code",
   "execution_count": 7,
   "id": "4bff4512",
   "metadata": {
    "scrolled": false
   },
   "outputs": [
    {
     "data": {
      "image/png": "[encoded data removed]",
      "text/plain": [
       "<Figure size 504x504 with 1 Axes>"
      ]
     },
     "metadata": {
      "needs_background": "light"
     },
     "output_type": "display_data"
    }
   ],
   "source": [
    "# load useful info like depth and noise floor freq for each site\n",
    "h, f_noise, clrs = odas.all_line_info()\n",
    "\n",
    "fig = plt.figure(figsize=(7,7))\n",
    "plt.plot(mean_pre_duc,mean_das_duc,label='Duck, NC',c=clrs[0,:],marker='.',ls='None')\n",
    "plt.plot(mean_pre_kno,mean_das_kno,label='Honolulu, HI',c=clrs[1,:],marker='.',ls='None')\n",
    "plt.plot(mean_pre_hom,mean_das_hom,label='Homer, AK',c=clrs[4,:],marker='.',ls='None')\n",
    "plt.xscale('log')\n",
    "plt.yscale('log')\n",
    "plt.legend()\n",
    "plt.xlabel('std(Dynamic Pressure) (m)')\n",
    "plt.ylabel('std(strain) (m/m)')\n",
    "\n",
    "# fig.savefig('/Users/hglover/Downloads/F9_CalTime.png')"
   ]
  }
 ],
 "metadata": {
  "kernelspec": {
   "display_name": "Python 3 (ipykernel)",
   "language": "python",
   "name": "python3"
  },
  "language_info": {
   "codemirror_mode": {
    "name": "ipython",
    "version": 3
   },
   "file_extension": ".py",
   "mimetype": "text/x-python",
   "name": "python",
   "nbconvert_exporter": "python",
   "pygments_lexer": "ipython3",
   "version": "3.9.12"
  }
 },
 "nbformat": 4,
 "nbformat_minor": 5
}
